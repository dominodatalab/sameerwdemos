{
 "cells": [
  {
   "cell_type": "code",
   "execution_count": null,
   "id": "a6ec38c2-faad-49ad-9e8f-fa51dcfbb907",
   "metadata": {
    "tags": []
   },
   "outputs": [],
   "source": [
    "import sys\n",
    "sys.path.append(\"/mnt/code/\")"
   ]
  },
  {
   "cell_type": "code",
   "execution_count": null,
   "id": "47d86df3-4c72-4f0a-a886-c56ce9c2b0a8",
   "metadata": {
    "tags": []
   },
   "outputs": [],
   "source": [
    "import argparse\n",
    "import os\n",
    "\n",
    "from filelock import FileLock\n",
    "from tensorflow.keras.datasets import mnist\n",
    "\n",
    "import ray\n",
    "from ray import train, tune\n",
    "from ray.tune.schedulers import AsyncHyperBandScheduler\n",
    "#from ray.air.integrations.keras import ReportCheckpointCall"
   ]
  },
  {
   "cell_type": "code",
   "execution_count": null,
   "id": "967a730c-3c07-4a44-8592-5673131974f6",
   "metadata": {
    "tags": []
   },
   "outputs": [],
   "source": [
    "import tensorflow"
   ]
  },
  {
   "cell_type": "code",
   "execution_count": null,
   "id": "b594ecff",
   "metadata": {
    "tags": []
   },
   "outputs": [],
   "source": [
    "import torchmetrics as tm"
   ]
  },
  {
   "cell_type": "code",
   "execution_count": null,
   "id": "a86210d2-b6c9-4e08-b6e4-de5ac860bd03",
   "metadata": {
    "tags": []
   },
   "outputs": [],
   "source": [
    "import os\n",
    "import tempfile\n",
    "import time\n",
    "\n",
    "import mlflow\n",
    "from ray import air, tune\n",
    "from ray.air import session\n",
    "from domino_mlflow_utils.mlflow_callback import *"
   ]
  },
  {
   "cell_type": "code",
   "execution_count": null,
   "id": "42c2f22c-c279-4151-91cf-81a31827d175",
   "metadata": {
    "tags": []
   },
   "outputs": [],
   "source": [
    "def evaluation_fn(step, width, height):\n",
    "    return (0.1 + width * step / 100) ** (-1) + height * 0.1\n",
    "\n",
    "\n",
    "def train_function(config):\n",
    "    width, height = config[\"width\"], config[\"height\"]\n",
    "\n",
    "    for step in range(config.get(\"steps\", 100)):\n",
    "        # Iterative training function - can be any arbitrary training procedure\n",
    "        intermediate_score = evaluation_fn(step, width, height)\n",
    "        # Feed the score back to Tune.\n",
    "        session.report({\"iterations\": step, \"mean_loss\": intermediate_score})\n",
    "        time.sleep(0.1)"
   ]
  },
  {
   "cell_type": "code",
   "execution_count": null,
   "id": "74fb242e-548a-4aa5-9cf1-c392ba4543da",
   "metadata": {
    "tags": []
   },
   "outputs": [],
   "source": [
    "def tune_with_callback(mlflow_tracking_uri, experiment_name,finish_fast=False):\n",
    "    cb = MyMLflowLoggerCallback(\n",
    "                    tracking_uri=mlflow_tracking_uri,\n",
    "                    experiment_name=experiment_name,\n",
    "                    save_artifact=True,\n",
    "                )\n",
    "    tuner = tune.Tuner(\n",
    "        train_function,\n",
    "        tune_config=tune.TuneConfig(num_samples=5),        \n",
    "        run_config=air.RunConfig(\n",
    "            name=\"mlflow\",\n",
    "            callbacks=[\n",
    "                cb\n",
    "            ],\n",
    "        ),\n",
    "        param_space={\n",
    "            \"width\": tune.randint(10, 100),\n",
    "            \"height\": tune.randint(0, 100),\n",
    "            \"steps\": 5 if finish_fast else 100,\n",
    "        },\n",
    "    )\n",
    "    results = tuner.fit()\n",
    "    cb.log_end_parent_run()"
   ]
  },
  {
   "cell_type": "code",
   "execution_count": null,
   "id": "9dfb3675-dc5f-4b71-984c-1f1831367f3c",
   "metadata": {
    "tags": []
   },
   "outputs": [],
   "source": [
    "import mlflow\n",
    "import os\n",
    "import ray\n",
    "import logging\n",
    "from domino_mlflow_utils.mlflow_callback import *\n",
    "\n",
    "temp_dir='/tmp'\n",
    "\n",
    "if not ray.is_initialized():\n",
    "    service_host = os.environ[\"RAY_HEAD_SERVICE_HOST\"]\n",
    "    service_port = os.environ[\"RAY_HEAD_SERVICE_PORT\"]\n",
    "    address=f\"ray://{service_host}:{service_port}\"\n",
    "    #temp_dir='/mnt/data//{}/'.format(os.environ['DOMINO_PROJECT_NAME']) #set to a dataset\n",
    "    ray.init(address=address, _temp_dir=temp_dir,runtime_env={\"py_modules\": ['/mnt/code/domino_mlflow_utils']})\n",
    "\n",
    "print('Ray Initializied')\n",
    "print(f'Ray Host={service_host} and Ray Port={service_port}')\n",
    "\n",
    "experiment_name = 'RAY-TUNE-'+'-' + os.environ['DOMINO_STARTING_USERNAME'] + '-' + os.environ['DOMINO_PROJECT_NAME']\n",
    "tune_with_callback(os.environ['CLUSTER_MLFLOW_TRACKING_URI'], experiment_name,finish_fast=True)\n",
    "\n",
    "#tune_with_setup(os.environ['CLUSTER_MLFLOW_TRACKING_URI'], experiment_name,finish_fast=True)\n",
    "df = mlflow.search_runs(\n",
    "        [mlflow.get_experiment_by_name(experiment_name).experiment_id]\n",
    "    )\n",
    "print(df)\n"
   ]
  },
  {
   "cell_type": "markdown",
   "id": "dec5a352-6fc3-43cf-8e32-cb93c95ae6cd",
   "metadata": {},
   "source": [
    "|    | run_id                           |   experiment_id | status   | artifact_uri                                                        | start_time                       | end_time                         |   metrics.config/steps |   metrics.time_total_s |   metrics.timestamp |   metrics.mean_loss |   metrics.time_this_iter_s |   metrics.iterations |   metrics.config/width |   metrics.config/height |   metrics.iterations_since_restore |   metrics.done |   metrics.time_since_restore |   metrics.training_iteration |   metrics.pid |   params.height |   params.width |   params.steps | tags.mlflow.domino.user   | tags.trial_name            | tags.mlflow.user   | tags.mlflow.domino.run_id   | tags.mlflow.parentRunId          | tags.mlflow.domino.project_id   | tags.mlflow.domino.environment_id   | tags.mlflow.domino.root_run_id   |   tags.mlflow.domino.run_number | tags.mlflow.domino.project_name   | tags.mlflow.domino.user_id   | tags.mlflow.domino.dataset_info                   | tags.mlflow.source.type   | tags.mlflow.domino.environment_revision_id   | tags.mlflow.domino.hardware_tier   | tags.mlflow.runName        |\n",
    "|---:|:---------------------------------|----------------:|:---------|:--------------------------------------------------------------------|:---------------------------------|:---------------------------------|-----------------------:|-----------------------:|--------------------:|--------------------:|---------------------------:|---------------------:|-----------------------:|------------------------:|-----------------------------------:|---------------:|-----------------------------:|-----------------------------:|--------------:|----------------:|---------------:|---------------:|:--------------------------|:---------------------------|:-------------------|:----------------------------|:---------------------------------|:--------------------------------|:------------------------------------|:---------------------------------|--------------------------------:|:----------------------------------|:-----------------------------|:--------------------------------------------------|:--------------------------|:---------------------------------------------|:-----------------------------------|:---------------------------|\n",
    "|  0 | efc2ebcf3cb3459ab381c22c0803d4e8 |              12 | FINISHED | mlflow-artifacts:/mlflow/efc2ebcf3cb3459ab381c22c0803d4e8/artifacts | 2024-03-04 12:16:10.514000+00:00 | 2024-03-04 12:16:20.189000+00:00 |                      5 |               0.403112 |         1.70955e+09 |             0.77037 |                   0.100493 |                    4 |                     65 |                       4 |                                  5 |              0 |                     0.403112 |                            5 |          1308 |               4 |             65 |              5 | integration-test          | train_function_ec450_00004 | integration-test   | 65e5b5c446b29e1208590160    | 0a07b8362887418ebbd59a0e851d879d | 65e5557490758361e5bc348d        | 65e5738090758361e5bc34aa            | 0a07b8362887418ebbd59a0e851d879d |                               6 | mlflow-demos                      | 65df309894ef6c5ddd8b2705     | 65e5557b90758361e5bc3492-65e5557b90758361e5bc3491 | NOTEBOOK                  | 65e5aedb90758361e5bc353c                     | small-k8s                          | train_function_ec450_00004 |\n",
    "|  1 | 87069e82a5654197ae0e5a12b66f9e3f |              12 | FINISHED | mlflow-artifacts:/mlflow/87069e82a5654197ae0e5a12b66f9e3f/artifacts | 2024-03-04 12:15:55.243000+00:00 | 2024-03-04 12:16:06.842000+00:00 |                      5 |               0.403373 |         1.70955e+09 |             4.05641 |                   0.100768 |                    4 |                     95 |                      38 |                                  5 |              0 |                     0.403373 |                            5 |          1308 |              38 |             95 |              5 | integration-test          | train_function_ec450_00002 | integration-test   | 65e5b5c446b29e1208590160    | 0a07b8362887418ebbd59a0e851d879d | 65e5557490758361e5bc348d        | 65e5738090758361e5bc34aa            | 0a07b8362887418ebbd59a0e851d879d |                               6 | mlflow-demos                      | 65df309894ef6c5ddd8b2705     | 65e5557b90758361e5bc3492-65e5557b90758361e5bc3491 | NOTEBOOK                  | 65e5aedb90758361e5bc353c                     | small-k8s                          | train_function_ec450_00002 |\n",
    "|  2 | 3977b0e4dade4a0192c6cf3d7824eebf |              12 | FINISHED | mlflow-artifacts:/mlflow/3977b0e4dade4a0192c6cf3d7824eebf/artifacts | 2024-03-04 12:15:53.043000+00:00 | 2024-03-04 12:16:07.640000+00:00 |                      5 |               0.402544 |         1.70955e+09 |             6.28249 |                   0.100624 |                    4 |                     86 |                      60 |                                  5 |              0 |                     0.402544 |                            5 |          4872 |              60 |             86 |              5 | integration-test          | train_function_ec450_00003 | integration-test   | 65e5b5c446b29e1208590160    | 0a07b8362887418ebbd59a0e851d879d | 65e5557490758361e5bc348d        | 65e5738090758361e5bc34aa            | 0a07b8362887418ebbd59a0e851d879d |                               6 | mlflow-demos                      | 65df309894ef6c5ddd8b2705     | 65e5557b90758361e5bc3492-65e5557b90758361e5bc3491 | NOTEBOOK                  | 65e5aedb90758361e5bc353c                     | small-k8s                          | train_function_ec450_00003 |\n",
    "|  3 | 4b4467fc71144b91a5726ad73afa4fee |              12 | FINISHED | mlflow-artifacts:/mlflow/4b4467fc71144b91a5726ad73afa4fee/artifacts | 2024-03-04 12:15:50.729000+00:00 | 2024-03-04 12:16:13.547000+00:00 |                      5 |               0.403404 |         1.70955e+09 |             3.17619 |                   0.100774 |                    4 |                     50 |                      27 |                                  5 |              0 |                     0.403404 |                            5 |          1380 |              27 |             50 |              5 | integration-test          | train_function_ec450_00001 | integration-test   | 65e5b5c446b29e1208590160    | 0a07b8362887418ebbd59a0e851d879d | 65e5557490758361e5bc348d        | 65e5738090758361e5bc34aa            | 0a07b8362887418ebbd59a0e851d879d |                               6 | mlflow-demos                      | 65df309894ef6c5ddd8b2705     | 65e5557b90758361e5bc3492-65e5557b90758361e5bc3491 | NOTEBOOK                  | 65e5aedb90758361e5bc353c                     | small-k8s                          | train_function_ec450_00001 |\n",
    "|  4 | 9cd9fc01aa2b4dc19974cc564bc740bc |              12 | FINISHED | mlflow-artifacts:/mlflow/9cd9fc01aa2b4dc19974cc564bc740bc/artifacts | 2024-03-04 12:15:50.332000+00:00 | 2024-03-04 12:16:17.236000+00:00 |                      5 |               0.403019 |         1.70955e+09 |            10.2155  |                   0.100751 |                    4 |                     46 |                      97 |                                  5 |              0 |                     0.403019 |                            5 |          1022 |              97 |             46 |              5 | integration-test          | train_function_ec450_00000 | integration-test   | 65e5b5c446b29e1208590160    | 0a07b8362887418ebbd59a0e851d879d | 65e5557490758361e5bc348d        | 65e5738090758361e5bc34aa            | 0a07b8362887418ebbd59a0e851d879d |                               6 | mlflow-demos                      | 65df309894ef6c5ddd8b2705     | 65e5557b90758361e5bc3492-65e5557b90758361e5bc3491 | NOTEBOOK                  | 65e5aedb90758361e5bc353c                     | small-k8s                          | train_function_ec450_00000 |\n",
    "|  5 | 0a07b8362887418ebbd59a0e851d879d |              12 | RUNNING  | mlflow-artifacts:/mlflow/0a07b8362887418ebbd59a0e851d879d/artifacts | 2024-03-04 12:15:47.396000+00:00 | NaT                              |                    nan |             nan        |       nan           |           nan       |                 nan        |                  nan |                    nan |                     nan |                                nan |            nan |                   nan        |                          nan |           nan |                 |                |                | integration-test          |                            | integration-test   | 65e5b5c446b29e1208590160    |                                  | 65e5557490758361e5bc348d        | 65e5738090758361e5bc34aa            |                                  |                               6 | mlflow-demos                      | 65df309894ef6c5ddd8b2705     | 65e5557b90758361e5bc3492-65e5557b90758361e5bc3491 | NOTEBOOK                  | 65e5aedb90758361e5bc353c                     | small-k8s                          | root-2024-03-04 12:15:47   |"
   ]
  },
  {
   "cell_type": "code",
   "execution_count": null,
   "id": "a701051f-6b63-48dc-95e8-74858435a81c",
   "metadata": {},
   "outputs": [],
   "source": []
  }
 ],
 "metadata": {
  "dca-init": "true",
  "kernelspec": {
   "display_name": "Python 3 (ipykernel)",
   "language": "python",
   "name": "python3"
  },
  "language_info": {
   "codemirror_mode": {
    "name": "ipython",
    "version": 3
   },
   "file_extension": ".py",
   "mimetype": "text/x-python",
   "name": "python",
   "nbconvert_exporter": "python",
   "pygments_lexer": "ipython3",
   "version": "3.9.16"
  }
 },
 "nbformat": 4,
 "nbformat_minor": 5
}
